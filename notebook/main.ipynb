{
  "cells": [
    {
      "cell_type": "markdown",
      "id": "e8923be6-d263-429d-8789-99206f3d16e3",
      "metadata": {
        "id": "e8923be6-d263-429d-8789-99206f3d16e3"
      },
      "source": []
    },
    {
      "cell_type": "markdown",
      "id": "884e2207-acd7-4902-b292-c8440ca5007c",
      "metadata": {
        "id": "884e2207-acd7-4902-b292-c8440ca5007c"
      },
      "source": [
        "# Описание датасета\n",
        "С 2008 года пользователи Airbnb могут находить уникальные и персонализированные варианты проживания для путешествий по всему миру. Этот набор данных содержит информацию о листингах и их активности в Нью-Йорке в 2019 году. В нем представлены данные о хостах, географическом расположении объектов и ключевых показателях, которые могут быть использованы для анализа и прогнозирования. В данном проекте будет выполнена задача прогнозирования цены.\n"
      ]
    },
    {
      "cell_type": "markdown",
      "id": "gLh5mV4Q-SAM",
      "metadata": {
        "id": "gLh5mV4Q-SAM"
      },
      "source": [
        "# Описание признаков\n",
        "id — уникальный идентификатор объявления.\n",
        "\n",
        "name — название объявления.\n",
        "\n",
        "host_id — идентификатор владельца жилья.\n",
        "\n",
        "neighbourhood_group — район города (например, Манхэттен, Бруклин).\n",
        "\n",
        "neighbourhood — подрайон (конкретное местоположение внутри района).\n",
        "\n",
        "latitude, longitude — географические координаты объекта(longitude -долгота, latitude - широта).\n",
        "\n",
        "room_type — тип жилья (например, \"Весь дом/квартира\", \"Частная комната\" и т.д.).\n",
        "\n",
        "price — стоимость ночи проживания (целевая переменная).\n",
        "\n",
        "minimum_nights — минимальное количество ночей для бронирования.\n",
        "\n",
        "number_of_reviews — общее количество отзывов.\n",
        "\n",
        "last_review — дата последнего отзыва.\n",
        "\n",
        "reviews_per_month — среднее количество отзывов в месяц.\n",
        "\n",
        "calculated_host_listings_count — количество всех объявлений от одного хозяина.\n",
        "\n",
        "availability_365 — количество дней, когда объект доступен для бронирования в течение года."
      ]
    },
    {
      "cell_type": "code",
      "execution_count": null,
      "id": "0d62d0f8-6ce5-4dd1-a042-853f0b56ed83",
      "metadata": {
        "id": "0d62d0f8-6ce5-4dd1-a042-853f0b56ed83"
      },
      "outputs": [],
      "source": [
        "%matplotlib inline\n",
        "import matplotlib.pyplot as plt\n",
        "plt.style.use('dark_background')"
      ]
    },
    {
      "cell_type": "markdown",
      "id": "ce8d27ed-bfa1-4399-b216-5a880cf566e5",
      "metadata": {
        "id": "ce8d27ed-bfa1-4399-b216-5a880cf566e5"
      },
      "source": [
        "##1. Загрузка датасета"
      ]
    },
    {
      "cell_type": "code",
      "execution_count": null,
      "id": "b13c55e4-31e3-4bb5-b93f-db8ccfa81b18",
      "metadata": {
        "id": "b13c55e4-31e3-4bb5-b93f-db8ccfa81b18"
      },
      "outputs": [],
      "source": [
        "!gdown --id 1jguoHyAi6QXgDlTIkIpYXZGy6vBsIckv\n",
        "import pandas as pd\n",
        "df = pd.read_csv('AirBnb.csv')\n",
        "df.head()"
      ]
    },
    {
      "cell_type": "markdown",
      "id": "WCiSV9OHs-vK",
      "metadata": {
        "id": "WCiSV9OHs-vK"
      },
      "source": [
        "##2.Просмотр и предобработка данных##"
      ]
    },
    {
      "cell_type": "markdown",
      "id": "dyh57SAxNPle",
      "metadata": {
        "id": "dyh57SAxNPle"
      },
      "source": [
        "Необходимо посмотреть на размер датафрейма, оценить количество пропусков и типы данных для признаков."
      ]
    },
    {
      "cell_type": "code",
      "execution_count": null,
      "id": "1dc6d945-0519-41bd-b3c5-c7732d6eaf16",
      "metadata": {
        "id": "1dc6d945-0519-41bd-b3c5-c7732d6eaf16"
      },
      "outputs": [],
      "source": [
        "df.shape"
      ]
    },
    {
      "cell_type": "code",
      "execution_count": null,
      "id": "42d5d092-3cd9-456c-9f4e-5edfa096fa92",
      "metadata": {
        "id": "42d5d092-3cd9-456c-9f4e-5edfa096fa92",
        "scrolled": true
      },
      "outputs": [],
      "source": [
        "df.info()"
      ]
    },
    {
      "cell_type": "code",
      "execution_count": null,
      "id": "pVL5umDPMi9-",
      "metadata": {
        "id": "pVL5umDPMi9-"
      },
      "outputs": [],
      "source": [
        "df.isna().sum()"
      ]
    },
    {
      "cell_type": "markdown",
      "id": "jlqyGqMtPNmv",
      "metadata": {
        "id": "jlqyGqMtPNmv"
      },
      "source": [
        "Посмотрим на типы данных в колонках с пропусками, чтобы правильно понимать, как их следует заполнять.\n"
      ]
    },
    {
      "cell_type": "code",
      "execution_count": null,
      "id": "DktKVb9pNeh2",
      "metadata": {
        "id": "DktKVb9pNeh2"
      },
      "outputs": [],
      "source": [
        "df[['name', 'last_review', 'reviews_per_month', \"host_name\"]].dtypes\n"
      ]
    },
    {
      "cell_type": "markdown",
      "id": "wDPzLMR4PyYG",
      "metadata": {
        "id": "wDPzLMR4PyYG"
      },
      "source": [
        "1) name и host_name - не будем заполнять, эти признаки стоит удалить, они не несут полезной информации для анализа зависимостей и будут только мешать в построении модели.\n",
        "\n",
        "2) Пропуски в last_review заполним NaT, посколько их довольно большое количество, помимо этого необходмо конвертировать тип данных, поскольку в дейстивительности это информация о последней дате просмотра объявления. Также создадим новый признак - есть ли дата.\n",
        "\n",
        "3) reviews_per_month заполним медианой, поскольку это числовой столбец и медиана устойчива к выбросам.\n",
        "\n",
        "Кроме этого, удалим колонки host_name и id, поскольку они также неинформативны и могут мешать модели."
      ]
    },
    {
      "cell_type": "code",
      "execution_count": null,
      "id": "ZsVoJ20TSRr0",
      "metadata": {
        "id": "ZsVoJ20TSRr0"
      },
      "outputs": [],
      "source": [
        "df['last_review'] = pd.to_datetime(df['last_review'], errors='coerce')\n",
        "df['last_review'] = df['last_review'].fillna(pd.NaT)\n"
      ]
    },
    {
      "cell_type": "code",
      "execution_count": null,
      "id": "DQG6gSZ5Palc",
      "metadata": {
        "id": "DQG6gSZ5Palc"
      },
      "outputs": [],
      "source": [
        "df['reviews_per_month']=df['reviews_per_month'].fillna(df['reviews_per_month'].median())\n"
      ]
    },
    {
      "cell_type": "code",
      "execution_count": null,
      "id": "50de4efa-f68a-453f-91df-c76ad00ad984",
      "metadata": {
        "id": "50de4efa-f68a-453f-91df-c76ad00ad984"
      },
      "outputs": [],
      "source": [
        "df.drop(columns=['id', 'name', \"host_name\", 'host_id'], inplace=True)"
      ]
    },
    {
      "cell_type": "code",
      "execution_count": null,
      "id": "47e064d1-ccc4-498a-bc87-e601e7759e6f",
      "metadata": {
        "id": "47e064d1-ccc4-498a-bc87-e601e7759e6f"
      },
      "outputs": [],
      "source": [
        "df.describe()"
      ]
    },
    {
      "cell_type": "markdown",
      "id": "l8od5bPRWsfU",
      "metadata": {
        "id": "l8od5bPRWsfU"
      },
      "source": [
        "Как можно видеть из описания датасета, вероятно ряд колонок содержит выбросы, это можно заметить по тому, как сильно отличаются 75% квартиль и максимум. Также мы можем оценить диапазон значений, например, для целевой пременной - цена, он составляет от 0 до 10000."
      ]
    },
    {
      "cell_type": "markdown",
      "id": "sX0BVnwIYiMN",
      "metadata": {
        "id": "sX0BVnwIYiMN"
      },
      "source": [
        "Теперь посмотрим на наличие дубликатов в данных."
      ]
    },
    {
      "cell_type": "code",
      "execution_count": null,
      "id": "c_7kboPRYdpq",
      "metadata": {
        "id": "c_7kboPRYdpq"
      },
      "outputs": [],
      "source": [
        "df.duplicated().sum()"
      ]
    },
    {
      "cell_type": "markdown",
      "id": "uKT50NuLHakJ",
      "metadata": {
        "id": "uKT50NuLHakJ"
      },
      "source": [
        "## 3. Создание новых признаков"
      ]
    },
    {
      "cell_type": "markdown",
      "id": "MjbinFighsch",
      "metadata": {
        "id": "MjbinFighsch"
      },
      "source": [
        "Создадим новый признаки, во-первых, цену за ночь, это позволит лучше понимать цену хоста. Во-вторых, используем наши данные о широте и долготе для расчеты актуального расстояния до центра Нью-Йорка, сами по себе эти признаки не очень информативны, а в таком виде они становятся очень полезными. Поэтому после создания нового признака, широту и долготу следует удалить."
      ]
    },
    {
      "cell_type": "code",
      "execution_count": null,
      "id": "2geHvwjcgrXm",
      "metadata": {
        "id": "2geHvwjcgrXm"
      },
      "outputs": [],
      "source": [
        "df['price_per_night'] = df['price'] / df['minimum_nights']\n"
      ]
    },
    {
      "cell_type": "code",
      "execution_count": null,
      "id": "-pESpb1qgsW-",
      "metadata": {
        "id": "-pESpb1qgsW-"
      },
      "outputs": [],
      "source": [
        "from geopy.distance import geodesic\n",
        "\n",
        "centr = (40.7128, -74.0060)\n",
        "def dist(row):\n",
        "    n = (row['latitude'], row['longitude'])\n",
        "    return geodesic(n, centr).kilometers\n",
        "\n",
        "df['center_distance'] = df.apply(dist, axis=1)\n",
        "\n"
      ]
    },
    {
      "cell_type": "code",
      "execution_count": null,
      "id": "wqjo2hLPiGoi",
      "metadata": {
        "id": "wqjo2hLPiGoi"
      },
      "outputs": [],
      "source": [
        "df.drop(columns=['latitude', 'longitude'], inplace=True)"
      ]
    },
    {
      "cell_type": "code",
      "execution_count": null,
      "id": "DhbmOBIrHhEI",
      "metadata": {
        "id": "DhbmOBIrHhEI"
      },
      "outputs": [],
      "source": [
        "df.head(10)"
      ]
    },
    {
      "cell_type": "markdown",
      "id": "zkcDoY-oT0tw",
      "metadata": {
        "id": "zkcDoY-oT0tw"
      },
      "source": [
        "Оценим количество уникальных значений в колонках и затем посмотрим на уникальные значения в колонках, где их меньше 10."
      ]
    },
    {
      "cell_type": "code",
      "execution_count": null,
      "id": "k7hmHyVvR8Ni",
      "metadata": {
        "id": "k7hmHyVvR8Ni"
      },
      "outputs": [],
      "source": [
        "df.nunique()"
      ]
    },
    {
      "cell_type": "code",
      "execution_count": null,
      "id": "9VJnbd-QTN3S",
      "metadata": {
        "id": "9VJnbd-QTN3S"
      },
      "outputs": [],
      "source": [
        "df['room_type'].value_counts()"
      ]
    },
    {
      "cell_type": "code",
      "execution_count": null,
      "id": "wSozsjMuTZLz",
      "metadata": {
        "id": "wSozsjMuTZLz"
      },
      "outputs": [],
      "source": [
        "df['neighbourhood_group'].value_counts()"
      ]
    },
    {
      "cell_type": "markdown",
      "id": "LmRNSMViUJ7g",
      "metadata": {
        "id": "LmRNSMViUJ7g"
      },
      "source": [
        "Теперь у нас есть представление о структуре данных, о том как работать с каждым из признаков."
      ]
    },
    {
      "cell_type": "markdown",
      "id": "8762406a-c7d2-4175-868f-58adb97cc2ef",
      "metadata": {
        "id": "8762406a-c7d2-4175-868f-58adb97cc2ef"
      },
      "source": [
        "## 4. Разведывательный анализ данных и визуализация"
      ]
    },
    {
      "cell_type": "markdown",
      "id": "bebd9142-971a-40e4-b9e0-a043df545c6d",
      "metadata": {
        "id": "bebd9142-971a-40e4-b9e0-a043df545c6d"
      },
      "source": [
        "##4.1. Распредление категориальных данных"
      ]
    },
    {
      "cell_type": "code",
      "execution_count": null,
      "id": "ef550d68-9dc3-4497-9bf8-ad923255a831",
      "metadata": {
        "id": "ef550d68-9dc3-4497-9bf8-ad923255a831"
      },
      "outputs": [],
      "source": [
        "import math\n",
        "df_cat =  df.select_dtypes(include=['object', 'category']).columns\n",
        "df_cat = df_cat[df_cat != 'neighbourhood']\n",
        "num_col = len(df_cat)\n",
        "num_rows = math.ceil(num_col / 3)\n",
        "num_cols = min(3, num_col)"
      ]
    },
    {
      "cell_type": "markdown",
      "id": "b6bxTeI9Z94a",
      "metadata": {
        "id": "b6bxTeI9Z94a"
      },
      "source": [
        "Находим все категориальные столбцы из датасета, выбрав столбцы с типами данных object или category. Затем из полученного списка удаляем столбец neighbourhood, так как он содержит слишком много уникальных значений, что делает его нецелесообразным для дальнейшего анализа в графическом виде. После этого вычисляется количество строк и столбцов для размещения подграфиков, с учётом того, что в каждом ряду будет не более трех графиков. Таким образом, мы динамически адаптируем количество подграфиков, чтобы все они помещались в удобном формате."
      ]
    },
    {
      "cell_type": "code",
      "execution_count": null,
      "id": "bbc042c7-d54e-4ff8-9ff4-f409a14e811a",
      "metadata": {
        "id": "bbc042c7-d54e-4ff8-9ff4-f409a14e811a"
      },
      "outputs": [],
      "source": [
        "import matplotlib.pyplot as plt\n",
        "fig, axes = plt.subplots(num_rows, num_cols, figsize=(15, num_rows * 5))\n",
        "\n",
        "for i, col in enumerate(df_cat):\n",
        "    df[col].value_counts().plot.bar(ax=axes[i], color='grey', edgecolor='black')\n",
        "    axes[i].set_title(f'Распределение {col}')\n",
        "\n",
        "plt.tight_layout()\n",
        "\n"
      ]
    },
    {
      "cell_type": "markdown",
      "id": "Um25ad_CawmQ",
      "metadata": {
        "id": "Um25ad_CawmQ"
      },
      "source": [
        "Из результатов можно увидеть, что основной рынок аренды сосредоточен в Манхэттене и Бруклине, а большая часть предложений – это либо отдельные квартиры, либо частные комнаты. Bronx и Staten Island почти не представлены, а совместное проживание (shared room) крайне непопулярно."
      ]
    },
    {
      "cell_type": "markdown",
      "id": "iepl2b-sKZ7j",
      "metadata": {
        "id": "iepl2b-sKZ7j"
      },
      "source": []
    },
    {
      "cell_type": "markdown",
      "id": "fH_wDJRsXa49",
      "metadata": {
        "id": "fH_wDJRsXa49"
      },
      "source": [
        "Посмотрим на группы разных комнат и районов по средней цене."
      ]
    },
    {
      "cell_type": "code",
      "execution_count": null,
      "id": "liQEo4avKNlF",
      "metadata": {
        "id": "liQEo4avKNlF"
      },
      "outputs": [],
      "source": [
        " df.groupby('room_type')['price'].mean().reset_index()"
      ]
    },
    {
      "cell_type": "markdown",
      "id": "zeLC45LpKNlG",
      "metadata": {
        "id": "zeLC45LpKNlG"
      },
      "source": [
        "Как видно, одна из групп, а именно целый дом и квартира,сильно выделяется высокой ценой. Это в свою очередь объясняется тем, что такие варианты предоставляют полный доступ к жилью, что является более привлекательным для гостей, которые ищут приватность и удобство, что создает высокий спрос."
      ]
    },
    {
      "cell_type": "code",
      "execution_count": null,
      "id": "KmlE_HeJKNlG",
      "metadata": {
        "id": "KmlE_HeJKNlG"
      },
      "outputs": [],
      "source": [
        " df.groupby('neighbourhood_group')['price'].mean().reset_index()"
      ]
    },
    {
      "cell_type": "markdown",
      "id": "n8wsq66CKNlH",
      "metadata": {
        "id": "n8wsq66CKNlH"
      },
      "source": [
        "В данном случае, можно увидеть, что в Манхеттене средняя цена намного превосходит средние цены других районов, самый дешевый Бронкс - но он не сильно отвличется от остальной массы. В целом, цены Манхеттена объяснимы, ведь он является сердцем города Нью-Йорк, где сосредоточены финансовые, культурные и деловые центры."
      ]
    },
    {
      "cell_type": "markdown",
      "id": "0d556a58-11ce-493e-9be4-7a664da95d0b",
      "metadata": {
        "id": "0d556a58-11ce-493e-9be4-7a664da95d0b"
      },
      "source": [
        "##4.2 Распределение числовых данных"
      ]
    },
    {
      "cell_type": "code",
      "execution_count": null,
      "id": "aa36ef49-eae5-47d5-9b46-675da94b531f",
      "metadata": {
        "id": "aa36ef49-eae5-47d5-9b46-675da94b531f"
      },
      "outputs": [],
      "source": [
        "df_num = df.select_dtypes(include=['number']).columns\n",
        "num_col = len(df_num)\n",
        "num_rows = math.ceil(num_col / 3)\n",
        "num_cols = min(3, num_col)"
      ]
    },
    {
      "cell_type": "code",
      "execution_count": null,
      "id": "ae7848bf-a7fb-49f7-a499-2f942de46a8a",
      "metadata": {
        "id": "ae7848bf-a7fb-49f7-a499-2f942de46a8a"
      },
      "outputs": [],
      "source": [
        "import seaborn as sns\n",
        "fig, axes = plt.subplots(num_rows, 3, figsize=(12, num_rows * 5))\n",
        "\n",
        "for i, col in enumerate(df_num, 1):\n",
        "    plt.subplot(num_rows, 3, i)\n",
        "    sns.histplot(df[col], kde=True, color='pink', bins=30)\n",
        "    plt.title(f'Распределение {col}')\n",
        "\n",
        "plt.tight_layout()\n"
      ]
    },
    {
      "cell_type": "raw",
      "id": "fc3372c2-366c-4625-b92c-27171dea7b5e",
      "metadata": {
        "id": "fc3372c2-366c-4625-b92c-27171dea7b5e"
      },
      "source": [
        "Данные содержат сильную асимметрию в распределении цен, количества ночей, отзывов и доступности. Есть признаки выбросов, особенно в цене и минимальном количестве ночей."
      ]
    },
    {
      "cell_type": "markdown",
      "id": "df103fb3-3abf-49ba-b847-6f3e111d5ebd",
      "metadata": {
        "id": "df103fb3-3abf-49ba-b847-6f3e111d5ebd"
      },
      "source": [
        "## 4.3. Анализ выбросов."
      ]
    },
    {
      "cell_type": "code",
      "execution_count": null,
      "id": "90ab1222-4aeb-4d21-922f-f0aa3c8f0f26",
      "metadata": {
        "id": "90ab1222-4aeb-4d21-922f-f0aa3c8f0f26"
      },
      "outputs": [],
      "source": [
        "df_num = df.select_dtypes(include=['number']).columns\n",
        "for col in df_num:\n",
        "    Q1 = df[col].quantile(0.25)\n",
        "    Q3 = df[col].quantile(0.75)\n",
        "    IQR = Q3 - Q1\n",
        "    lower_bound = Q1 - 1.5 * IQR\n",
        "    upper_bound = Q3 + 1.5 * IQR\n",
        "\n",
        "    outliers_count = df[(df[col] < lower_bound) | (df[col] > upper_bound)].shape[0]\n",
        "    print(f\"{col}: количество выбросов = {outliers_count}\")\n",
        "\n",
        "    df[col] = df[col].clip(lower=lower_bound, upper=upper_bound)\n"
      ]
    },
    {
      "cell_type": "code",
      "execution_count": null,
      "id": "0099cda9-37c1-4cb8-b247-828b843a1e20",
      "metadata": {
        "id": "0099cda9-37c1-4cb8-b247-828b843a1e20"
      },
      "outputs": [],
      "source": [
        "num_cols = len(df_num)\n",
        "num_rows = (num_cols + 2) // 3"
      ]
    },
    {
      "cell_type": "code",
      "execution_count": null,
      "id": "87edd916-e17d-491e-93c1-816a84877700",
      "metadata": {
        "id": "87edd916-e17d-491e-93c1-816a84877700"
      },
      "outputs": [],
      "source": [
        "plt.figure(figsize=(10, num_rows * 5))\n",
        "for i, col in enumerate(df_num):\n",
        "    plt.subplot(num_rows, 3, i + 1)\n",
        "    sns.boxplot(y=df[col])\n",
        "    plt.title(f'Boxplot для {col}')\n",
        "    plt.ylabel(col)\n",
        "\n",
        "plt.tight_layout()"
      ]
    },
    {
      "cell_type": "raw",
      "id": "82ddce5e-bde6-4f48-bca9-041e21f293c4",
      "metadata": {
        "id": "82ddce5e-bde6-4f48-bca9-041e21f293c4"
      },
      "source": [
        "Выбрасов нет, по каждому графику можно опрделить вариативности, размах, медианы и пр."
      ]
    },
    {
      "cell_type": "markdown",
      "id": "ad0fc4f8-1436-45ae-88fe-0885022084fe",
      "metadata": {
        "id": "ad0fc4f8-1436-45ae-88fe-0885022084fe"
      },
      "source": [
        "## 4.4 Корреляция между целевой переменной и числовыми признаками, визуализация."
      ]
    },
    {
      "cell_type": "code",
      "execution_count": null,
      "id": "69801659-8bc2-4a0b-9fdb-448c3000f061",
      "metadata": {
        "id": "69801659-8bc2-4a0b-9fdb-448c3000f061"
      },
      "outputs": [],
      "source": [
        "df_nums = df.select_dtypes(include=['number'])\n",
        "corr = df_nums.corrwith(df['price']).sort_values()\n",
        "\n",
        "sns.barplot(y=corr.index, x=corr, palette='hls')\n",
        "plt.xlabel('Корреляция')\n",
        "plt.ylabel('Признак')\n"
      ]
    },
    {
      "cell_type": "raw",
      "id": "91f8926f-c9a6-41b1-95fa-c7c535842804",
      "metadata": {
        "id": "91f8926f-c9a6-41b1-95fa-c7c535842804"
      },
      "source": [
        "Есть отрицательная корреляция с признаком center_distance, она составляет около -0.3. Cреди положительной самая сильная с price_per_night, корреляция целевой пременной с остальными признаками не очень значительна, но третья по значимости с availability_365, однако только 10%."
      ]
    },
    {
      "cell_type": "code",
      "execution_count": null,
      "id": "lSq6zPTzkHbR",
      "metadata": {
        "id": "lSq6zPTzkHbR"
      },
      "outputs": [],
      "source": [
        "df.info()"
      ]
    },
    {
      "cell_type": "code",
      "execution_count": null,
      "id": "18ec697d-50ca-419a-813b-c4c11f238956",
      "metadata": {
        "id": "18ec697d-50ca-419a-813b-c4c11f238956"
      },
      "outputs": [],
      "source": [
        "df['distance_group'] = pd.cut(df['center_distance'], bins=10)\n",
        "plt.figure(figsize=(12, 6))\n",
        "sns.boxplot(x=df['distance_group'], y=df['price'])\n",
        "plt.xticks(rotation=45)\n",
        "plt.title('Распределение цены в зависимости от расстояния до центра')\n",
        "plt.xlabel('Группы расстояний')\n",
        "plt.ylabel('Цена')"
      ]
    },
    {
      "cell_type": "raw",
      "id": "fafdca35-09e1-4f8d-9f5e-331b283c6290",
      "metadata": {
        "id": "fafdca35-09e1-4f8d-9f5e-331b283c6290"
      },
      "source": [
        "Как видно из графика, с ростом расстояния цена в среднем падает."
      ]
    },
    {
      "cell_type": "code",
      "execution_count": null,
      "id": "vjGNX60QmkwI",
      "metadata": {
        "id": "vjGNX60QmkwI"
      },
      "outputs": [],
      "source": [
        "import numpy as np\n",
        "plt.figure(figsize=(10, 6))\n",
        "sns.lineplot(x='availability_365', y='price', data=df, label='Price')\n",
        "\n",
        "z = np.polyfit(df['availability_365'], df['price'], 1)\n",
        "p = np.poly1d(z)\n",
        "\n",
        "plt.plot(df['availability_365'], p(df['availability_365']), color='red', label='Trend Line')\n",
        "\n",
        "plt.title('Line Plot with Trend Line: Availability_365 vs Price')\n",
        "plt.xlabel('Availability_365')\n",
        "plt.ylabel('Price')\n",
        "plt.legend()"
      ]
    },
    {
      "cell_type": "markdown",
      "id": "1n_TlbbaoGCQ",
      "metadata": {
        "id": "1n_TlbbaoGCQ"
      },
      "source": [
        "Из графика можно увидеть незначительную связь количеством доступных дней в году и ценой, в целом с доступностью цена в среднем растет."
      ]
    },
    {
      "cell_type": "code",
      "execution_count": null,
      "id": "htvOTMTKnN0i",
      "metadata": {
        "id": "htvOTMTKnN0i"
      },
      "outputs": [],
      "source": [
        "plt.figure(figsize=(10, 6))\n",
        "sns.histplot(df['price_per_night'], kde=True, bins=30)\n",
        "plt.title('Histogram: Price_per_night Distribution')\n",
        "plt.xlabel('Price_per_night')\n",
        "plt.ylabel('Frequency')\n",
        "\n"
      ]
    },
    {
      "cell_type": "markdown",
      "id": "kyPjV2EhoXnp",
      "metadata": {
        "id": "kyPjV2EhoXnp"
      },
      "source": [
        "Это гистограмма распределению цены за ночь, в целом, ц графика нисходящий тренд - с ростом цены частота снижается, отднако при значении 175 заметен скачок."
      ]
    },
    {
      "cell_type": "markdown",
      "id": "NZQnpp2E51Mj",
      "metadata": {
        "id": "NZQnpp2E51Mj"
      },
      "source": [
        "# 4.5 Корреляционная матрица для числовых признаков и визуализация##"
      ]
    },
    {
      "cell_type": "markdown",
      "id": "XkYAUXZ1ouTD",
      "metadata": {
        "id": "XkYAUXZ1ouTD"
      },
      "source": [
        "Кроме оценки связи признаков с целевой пременной, интересно посмотреть на некоторые зависимости признаков между собой."
      ]
    },
    {
      "cell_type": "code",
      "execution_count": null,
      "id": "tLv7HyQbpDki",
      "metadata": {
        "id": "tLv7HyQbpDki"
      },
      "outputs": [],
      "source": [
        "plt.figure(figsize=(10, 6))\n",
        "corr = df.select_dtypes(include=np.number).corr()\n",
        "sns.heatmap(corr, annot=True, cmap='coolwarm')\n",
        "plt.title('Корреляционная матрица')"
      ]
    },
    {
      "cell_type": "markdown",
      "id": "UYNh9s40pH3v",
      "metadata": {
        "id": "UYNh9s40pH3v"
      },
      "source": [
        "Можно увидеть из тепловой карты корреляции какие признаки между собой сильнее всего коррелируют. Но в целом сильной корреляции не наблюдается, что в целом может быть хорошо в контексте применения линейной модели, так как это убирает риск линейной зависимости между признаками."
      ]
    },
    {
      "cell_type": "code",
      "execution_count": null,
      "id": "pyZ4OBBSLfXc",
      "metadata": {
        "id": "pyZ4OBBSLfXc"
      },
      "outputs": [],
      "source": [
        "plt.figure(figsize=(10, 6))\n",
        "corr_spearman = df.select_dtypes(include=np.number).corr(method='spearman')\n",
        "sns.heatmap(corr_spearman, annot=True, cmap='coolwarm', fmt='.2f')\n",
        "plt.title('Корреляционная матрица (Метод Спирмена)')\n"
      ]
    },
    {
      "cell_type": "markdown",
      "id": "y7Mz-zxCOEiW",
      "metadata": {
        "id": "y7Mz-zxCOEiW"
      },
      "source": [
        "Однако мы использовали метод Пирсона и могли упустить ряд связей из-за его ограниченности, полноценно посмотреть на связи можно используя также матод Спирмена. Можно заметить, что в такой корелляцоинной матрице, например, прослеживается более сильная корреляция между количество просмотров объявления за месяц и его доступностью в году. Хотя часть корреляций усилилась, некоторые напротив, стали слабее."
      ]
    },
    {
      "cell_type": "code",
      "execution_count": null,
      "id": "iuxZYe2ZpeC3",
      "metadata": {
        "id": "iuxZYe2ZpeC3"
      },
      "outputs": [],
      "source": [
        "plt.figure(figsize=(10, 6))\n",
        "sns.boxplot(x='minimum_nights', y='price_per_night', data=df)\n",
        "plt.title('Boxplot: минимум ночей и цена за ночь')\n",
        "plt.xlabel('Минимум ночей')\n",
        "plt.ylabel('Цена за ночь')"
      ]
    },
    {
      "cell_type": "markdown",
      "id": "WH4fKowxqIW-",
      "metadata": {
        "id": "WH4fKowxqIW-"
      },
      "source": [
        "Как видно из гарфика, цена за ночь в среднем падает с ростом количества минимальных ночей, это говорит о том, что хозяева жилья часто предлагают скидки для гостей, которые бронируют проживание на более длительный срок. Это стимулирует гостей выбирать более долгие периоды проживания, что может снизить среднюю цену за ночь. Это похоже на оптовую продажу, где низкая цена компенсируется большим количеством."
      ]
    },
    {
      "cell_type": "code",
      "execution_count": null,
      "id": "JG9LMKytLBp4",
      "metadata": {
        "id": "JG9LMKytLBp4"
      },
      "outputs": [],
      "source": [
        "grouped = df.groupby(\"calculated_host_listings_count\")[\"availability_365\"].mean().reset_index()\n",
        "\n",
        "plt.figure(figsize=(10, 6))\n",
        "sns.lineplot(data=grouped, x=\"calculated_host_listings_count\", y=\"availability_365\", marker=\"o\")\n",
        "plt.title(\"Средняя доступность (availability_365) по количеству объявлений у хоста\")\n",
        "plt.xlabel(\"Количество объявлений у хоста\")\n",
        "plt.ylabel(\"Средняя доступность (дней в году)\")"
      ]
    },
    {
      "cell_type": "code",
      "execution_count": null,
      "id": "O-vXywPVk-Zf",
      "metadata": {
        "id": "O-vXywPVk-Zf"
      },
      "outputs": [],
      "source": [
        "plt.figure(figsize=(12, 6))\n",
        "ax = sns.countplot(x='room_type', hue='neighbourhood_group', data=df)\n",
        "\n",
        "plt.title('Распределение типов жилья по районам')\n",
        "plt.xlabel('Тип жилья')\n",
        "plt.ylabel('Количество объявлений')\n",
        "\n",
        "handles, labels = ax.get_legend_handles_labels()\n",
        "plt.legend(handles, labels, title='Районы', bbox_to_anchor=(1.05, 1), loc='upper left')\n"
      ]
    },
    {
      "cell_type": "markdown",
      "id": "GfUwwcjOr_b9",
      "metadata": {
        "id": "GfUwwcjOr_b9"
      },
      "source": [
        "Из данного графика можно увидеть, как распрелено количество объявлений по типам жилья в разных районах. В целом распредление везде похожее, а вот количество объявлений в Манхетене самое большое, хотя Бруклин не сильно отстает. В Манхетене в основном размещены объявления для отедльного дома и квартиры, а в бруклине для отдельной комнаты."
      ]
    },
    {
      "cell_type": "code",
      "execution_count": null,
      "id": "qL1mFEXOWHJS",
      "metadata": {
        "id": "qL1mFEXOWHJS"
      },
      "outputs": [],
      "source": [
        "def format_range(x):\n",
        "    return f\"{x.left:.3f} – {x.right:.3f}\"\n",
        "\n",
        "dbins = pd.cut(df['center_distance'], bins=10)\n",
        "df['distance_range'] = dbins.map(format_range)\n",
        "\n",
        "pivot_table = df.groupby(['distance_range', 'neighbourhood_group'])['price'].mean().unstack()\n",
        "\n",
        "plt.figure(figsize=(12, 8))\n",
        "sns.heatmap(pivot_table, annot=True, fmt=\".0f\")\n",
        "plt.title('Средняя цена по расстоянию до центра и районам')\n",
        "plt.xlabel('Район')\n",
        "plt.ylabel('Расстояние до центра')\n",
        "plt.xticks(rotation=45)"
      ]
    },
    {
      "cell_type": "markdown",
      "id": "E9_9hxG9W_Rg",
      "metadata": {
        "id": "E9_9hxG9W_Rg"
      },
      "source": [
        "Видна разница в районнах по ценам, Манхэттенне средние цены выше, как уже выяснилось до этого, но самая высокая цена на удивление не находится в области ближашей к центру, она располагается в 5-7 км. от центра и составляет 199 долларов. Хотя примечательно, что в Бруклине в ближайшему к центру области средняя цена превосходит  соответствующую у Манхеттена. В Квинс средняя цена тоже относительно высокая ( 184 долларов для ближайшей к центру области)\n"
      ]
    },
    {
      "cell_type": "markdown",
      "id": "45acaf41-b1c3-46eb-b4ce-d76220cc4d31",
      "metadata": {
        "id": "45acaf41-b1c3-46eb-b4ce-d76220cc4d31"
      },
      "source": [
        "# 5. Машинное обучение."
      ]
    },
    {
      "cell_type": "raw",
      "id": "87efa1b5-d8a6-4aeb-97f8-cade57728f1c",
      "metadata": {
        "id": "87efa1b5-d8a6-4aeb-97f8-cade57728f1c"
      },
      "source": [
        "**Причины выбора линейной регрессии:**\n",
        "1. Легкость интерпретации: коэффициенты модели показывают влияние каждого признака на результат.\n",
        "2. Линейные зависимости: в данных есть линейные связи, что в целом может делать выбор оправданным, но важно уточнить, что далеко не все зависимости линейные.\n",
        "3. Низкие вычислительные затраты: линейная регрессия требует меньше ресурсов, особенно для больших датасетов.\n",
        "4. Быстрая тренировка: обучение модели происходит быстрее, чем у более сложных алгоритмов.\n",
        "5. Простота настройки: линейная регрессия не требует сложной настройки гиперпараметров."
      ]
    },
    {
      "cell_type": "code",
      "execution_count": null,
      "id": "6434dba6-ee21-4e77-88ee-4493557c226c",
      "metadata": {
        "id": "6434dba6-ee21-4e77-88ee-4493557c226c"
      },
      "outputs": [],
      "source": [
        "from sklearn.model_selection import train_test_split\n",
        "from sklearn.linear_model import Ridge\n",
        "from sklearn.compose import ColumnTransformer\n",
        "from sklearn.pipeline import Pipeline\n",
        "from sklearn.preprocessing import StandardScaler\n",
        "from sklearn.metrics import mean_squared_error, r2_score\n",
        "from sklearn.model_selection import GridSearchCV\n",
        "from sklearn.preprocessing import OneHotEncoder"
      ]
    },
    {
      "cell_type": "code",
      "source": [
        "df[\"year\"] = df[\"last_review\"].dt.year\n",
        "df[\"month\"] = df[\"last_review\"].dt.month\n",
        "\n",
        "df[\"year\"] = df[\"year\"].fillna(-1)\n",
        "df[\"month\"] = df[\"month\"].fillna(-1)\n",
        "\n",
        "df.drop(columns=[\"last_review\"], inplace=True)\n",
        "\n",
        "y = df[\"price\"]\n",
        "X = df.drop(columns=[\"price\"])\n",
        "\n",
        "X_train, X_test, y_train, y_test = train_test_split(X, y, test_size=0.25, random_state=161)"
      ],
      "metadata": {
        "id": "B9EF4dIRn3Yx"
      },
      "id": "B9EF4dIRn3Yx",
      "execution_count": null,
      "outputs": []
    },
    {
      "cell_type": "markdown",
      "id": "RIVxpFxvPNTX",
      "metadata": {
        "id": "RIVxpFxvPNTX"
      },
      "source": [
        "Используем one-hot-encoding, встроенный в pandas(его использование проще, чем из sklearn), а также делим наши данные на тестовые и тренировочные. В качестве модели берем Ridge, в ней есть встроенная регуляризация, которая помогает бороться с переобучением."
      ]
    },
    {
      "cell_type": "code",
      "execution_count": null,
      "id": "4THWMzJw2sp-",
      "metadata": {
        "id": "4THWMzJw2sp-"
      },
      "outputs": [],
      "source": [
        "param_grid = {\n",
        "    'ridge__alpha': [0.01, 0.1, 1, 10, 100],\n",
        "    'ridge__solver': ['auto', 'lsqr', 'sparse_cg', 'sag'],\n",
        "    'ridge__max_iter': [1000, 5000]\n",
        "\n",
        "}\n",
        "num_cols = X_train.select_dtypes(include=['number']).columns\n",
        "cat_cols = X_train.select_dtypes(include=['object']).columns\n",
        "preprocessor = ColumnTransformer(\n",
        "    transformers=[\n",
        "        ('num', StandardScaler(), num_cols),\n",
        "        ('cat', OneHotEncoder(handle_unknown='ignore'), cat_cols)\n",
        "    ])\n",
        "\n",
        "pipeline = Pipeline(steps=[\n",
        "    ('preprocessor', preprocessor),\n",
        "    ('ridge', Ridge())\n",
        "])\n",
        "\n",
        "grid_search = GridSearchCV(pipeline, param_grid, cv=5, scoring='neg_mean_squared_error', n_jobs=-1)\n",
        "grid_search.fit(X_train, y_train)\n",
        "\n",
        "print(\"Best parameters:\", grid_search.best_params_)\n",
        "y_pred = grid_search.predict(X_test)\n",
        "\n",
        "mse = mean_squared_error(y_test, y_pred)\n",
        "r2 = r2_score(y_test, y_pred)\n",
        "\n",
        "print(f\"Mean Squared Error: {mse:.2f}\")\n",
        "print(f\"R-squared: {r2:.2f}\")"
      ]
    },
    {
      "cell_type": "markdown",
      "id": "OqffKDRg5CJ-",
      "metadata": {
        "id": "OqffKDRg5CJ-"
      },
      "source": [
        "Находим лучшие гиперпараметры для нашей модели используя GridSearchCV, для этого нужно предварительно отмасшатбировали данные, поскольку для линейных моделей это критично, хорошим выбором будет StandardScaler, поскольку он относительно устойчив к выбросам. Сделали словарь параметров и их значений и передали его в GridSearchCV с 5-ти разовой кросс-валидацией и отрицательной средне-квадратичной функцией потерь(поскольку GridSearchCV по умолчанию находит гиперпараметры для максимизации функции)."
      ]
    },
    {
      "cell_type": "markdown",
      "id": "GKqc245O4U13",
      "metadata": {
        "id": "GKqc245O4U13"
      },
      "source": [
        "Модель имеет относительно хорошее качество (r2 около 0.7 - для линейной модели довольно неплохое описание дисперсии) и не переобучена, что ожидаемо для линейной модели с регуляризацией."
      ]
    },
    {
      "cell_type": "code",
      "execution_count": null,
      "id": "e147caba-5722-4afa-980f-f4f32be40d27",
      "metadata": {
        "id": "e147caba-5722-4afa-980f-f4f32be40d27"
      },
      "outputs": [],
      "source": [
        "best = grid_search.best_estimator_\n",
        "coeff = best.named_steps['ridge'].coef_\n",
        "feature_names = best.named_steps['preprocessor'].get_feature_names_out()\n",
        "coeff_df = pd.DataFrame({'Feature': feature_names,'Coefficient': coeff})\n",
        "coeff_df['Abs_Coefficient'] = coeff_df['Coefficient'].abs()\n",
        "coeff_df = coeff_df.sort_values(by='Abs_Coefficient', ascending=False).reset_index(drop=True)\n",
        "coeff_df\n"
      ]
    },
    {
      "cell_type": "markdown",
      "id": "bG6alx4O3h7H",
      "metadata": {
        "id": "bG6alx4O3h7H"
      },
      "source": [
        "Наиболее важные признаки - цена за ночь и весь дом или аппартаменты, причем оба признака с положительным коэффициентом, а самый большой отрицательный коэффициент имеет общая комната. Результаты довольно ожидаемые и очевидные."
      ]
    },
    {
      "cell_type": "code",
      "execution_count": null,
      "id": "20fd78f8-58a1-4627-94db-cfa11325222e",
      "metadata": {
        "id": "20fd78f8-58a1-4627-94db-cfa11325222e"
      },
      "outputs": [],
      "source": [
        "plt.figure(figsize=(8, 6))\n",
        "\n",
        "plt.scatter(y_test, y_pred, alpha=0.7, color='blue', edgecolor='white', s=40)\n",
        "\n",
        "plt.plot([y_test.min(), y_test.max()], [y_test.min(), y_test.max()], 'r--', label='y = x')\n",
        "\n",
        "plt.grid(True, linestyle='-', alpha=0.5)\n",
        "plt.xlabel(\"Фактическая цена\")\n",
        "plt.ylabel(\"Предсказанная цена\")\n",
        "plt.title(f\"Сравнение фактической и предсказанной цены\\nR² = {r2:.2f}\")\n",
        "\n",
        "plt.legend()"
      ]
    },
    {
      "cell_type": "markdown",
      "id": "mhx-LL77XOMs",
      "metadata": {
        "id": "mhx-LL77XOMs"
      },
      "source": [
        "##5.1 Стекинг"
      ]
    },
    {
      "cell_type": "code",
      "execution_count": null,
      "id": "zF-RrvnzcK1q",
      "metadata": {
        "id": "zF-RrvnzcK1q"
      },
      "outputs": [],
      "source": [
        "!pip install optuna\n"
      ]
    },
    {
      "cell_type": "code",
      "execution_count": null,
      "id": "WUOCYAuZcO_c",
      "metadata": {
        "id": "WUOCYAuZcO_c"
      },
      "outputs": [],
      "source": [
        "import optuna\n",
        "from sklearn.ensemble import RandomForestRegressor\n",
        "from sklearn.neighbors import KNeighborsRegressor\n",
        "from sklearn.model_selection import cross_val_score\n",
        "from sklearn.metrics import mean_squared_error\n",
        "from sklearn.model_selection import KFold"
      ]
    },
    {
      "cell_type": "code",
      "execution_count": null,
      "id": "pPsViw9IfpSo",
      "metadata": {
        "id": "pPsViw9IfpSo"
      },
      "outputs": [],
      "source": [
        "def objective_rf(trial):\n",
        "    param_grid = {\"n_estimators\": trial.suggest_int(\"n_estimators\", 50, 300),\n",
        "        \"max_depth\": trial.suggest_int(\"max_depth\", 3, 30),\n",
        "        \"min_samples_split\": trial.suggest_int(\"min_samples_split\", 2, 20),\n",
        "        \"min_samples_leaf\": trial.suggest_int(\"min_samples_leaf\", 1, 20),\n",
        "        \"max_features\": trial.suggest_categorical(\"max_features\", [\"sqrt\", \"log2\"])}\n",
        "\n",
        "    cv = KFold(n_splits=5, shuffle=True, random_state=42)\n",
        "    cv_errors = np.empty(cv.get_n_splits())\n",
        "\n",
        "    for idx, (train_idx, test_idx) in enumerate(cv.split(X_train, y_train)):\n",
        "        X_tr, X_val = X_train.iloc[train_idx], X_train.iloc[test_idx]\n",
        "        y_tr, y_val = y_train.iloc[train_idx], y_train.iloc[test_idx]\n",
        "        X_tr_processed = preprocessor.fit_transform(X_tr)\n",
        "        X_val_processed = preprocessor.transform(X_val)\n",
        "\n",
        "        model = RandomForestRegressor(**param_grid, random_state=42, n_jobs=-1)\n",
        "        model.fit(X_tr_processed, y_tr)\n",
        "        preds = model.predict(X_val_processed)\n",
        "        cv_errors[idx] = mean_squared_error(y_val, preds)\n",
        "\n",
        "    return np.mean(cv_errors)"
      ]
    },
    {
      "cell_type": "code",
      "source": [
        "study_rf = optuna.create_study(direction='minimize')\n",
        "study_rf.optimize(objective_rf, n_trials=20)"
      ],
      "metadata": {
        "id": "ccHXZekyrwgq"
      },
      "id": "ccHXZekyrwgq",
      "execution_count": null,
      "outputs": []
    },
    {
      "cell_type": "code",
      "source": [
        "rf_params = study_rf.best_params\n",
        "print(rf_params)"
      ],
      "metadata": {
        "id": "XVgRNvKTp1wp"
      },
      "id": "XVgRNvKTp1wp",
      "execution_count": null,
      "outputs": []
    },
    {
      "cell_type": "code",
      "execution_count": null,
      "id": "u87WtiwvTWNd",
      "metadata": {
        "id": "u87WtiwvTWNd"
      },
      "outputs": [],
      "source": [
        "def objective_knn(trial):\n",
        "    param_grid = {\n",
        "        \"n_neighbors\": trial.suggest_int(\"n_neighbors\", 1, 30),\n",
        "        \"weights\": trial.suggest_categorical(\"weights\", [\"uniform\", \"distance\"]),\n",
        "        \"metric\": trial.suggest_categorical(\"metric\", [\"euclidean\", \"manhattan\"])\n",
        "    }\n",
        "\n",
        "    cv = KFold(n_splits=3, shuffle=True, random_state=42)\n",
        "    cv_errors = np.empty(cv.get_n_splits())\n",
        "\n",
        "    for idx, (train_idx, test_idx) in enumerate(cv.split(X_train, y_train)):\n",
        "        X_train_fold, y_train_fold = X_train.iloc[train_idx], y_train.iloc[train_idx]\n",
        "        X_tr = X_train_fold.sample(frac=0.2, random_state=42)\n",
        "        y_tr = y_train_fold.loc[X_tr.index]\n",
        "\n",
        "        X_val = X_train.iloc[test_idx]\n",
        "        y_val = y_train.iloc[test_idx]\n",
        "        X_tr_processed = preprocessor.fit_transform(X_tr)\n",
        "        X_val_processed = preprocessor.transform(X_val)\n",
        "\n",
        "\n",
        "        model = Pipeline([\n",
        "            (\"scaler\", StandardScaler(with_mean=False)),\n",
        "            (\"knn\", KNeighborsRegressor(**param_grid))\n",
        "        ])\n",
        "\n",
        "        model.fit(X_tr_processed, y_tr)\n",
        "        preds = model.predict(X_val_processed)\n",
        "        cv_errors[idx] = mean_squared_error(y_val, preds)\n",
        "\n",
        "    return np.mean(cv_errors)"
      ]
    },
    {
      "cell_type": "code",
      "source": [
        "study_knn = optuna.create_study(direction='minimize')\n",
        "study_knn.optimize(objective_knn, n_trials=20)"
      ],
      "metadata": {
        "id": "zCgKe1Mxyjqa"
      },
      "id": "zCgKe1Mxyjqa",
      "execution_count": null,
      "outputs": []
    },
    {
      "cell_type": "code",
      "source": [
        "knn_params = study_knn.best_params\n",
        "print(knn_params)"
      ],
      "metadata": {
        "id": "bM-pn2wHoav5"
      },
      "id": "bM-pn2wHoav5",
      "execution_count": null,
      "outputs": []
    },
    {
      "cell_type": "code",
      "source": [
        "!pip install optuna-integration[lightgbm]"
      ],
      "metadata": {
        "id": "Wm9fuQJ_CCKK"
      },
      "id": "Wm9fuQJ_CCKK",
      "execution_count": null,
      "outputs": []
    },
    {
      "cell_type": "code",
      "source": [
        "import lightgbm as lgb\n",
        "from optuna.integration import LightGBMPruningCallback"
      ],
      "metadata": {
        "id": "7jPNQArbB0sb"
      },
      "id": "7jPNQArbB0sb",
      "execution_count": null,
      "outputs": []
    },
    {
      "cell_type": "code",
      "source": [
        "X_train.columns = X_train.columns.str.replace(r\"[^\\w]\", \"_\", regex=True)\n",
        "X_test.columns = X_test.columns.str.replace(r\"[^\\w]\", \"_\", regex=True)\n"
      ],
      "metadata": {
        "id": "5kYkCdot_MfW"
      },
      "id": "5kYkCdot_MfW",
      "execution_count": null,
      "outputs": []
    },
    {
      "cell_type": "code",
      "source": [
        "from optuna.pruners import MedianPruner\n",
        "\n",
        "def objective(trial):\n",
        "    params = {\n",
        "        \"objective\": \"regression\",\n",
        "        \"metric\": \"l2\",\n",
        "        \"n_estimators\": 1000,\n",
        "        \"learning_rate\": trial.suggest_float(\"learning_rate\", 0.01, 0.1, log=True),\n",
        "        \"num_leaves\": trial.suggest_int(\"num_leaves\", 31, 127),\n",
        "        \"max_depth\": trial.suggest_int(\"max_depth\", 3, 6),\n",
        "        \"min_child_samples\": trial.suggest_int(\"min_child_samples\", 50, 200),\n",
        "        \"feature_fraction\": trial.suggest_float(\"feature_fraction\", 0.7, 1.0),\n",
        "        \"bagging_fraction\": trial.suggest_float(\"bagging_fraction\", 0.7, 1.0),\n",
        "        \"verbosity\": -1,\n",
        "        \"n_jobs\": -1\n",
        "    }\n",
        "\n",
        "    kf = KFold(n_splits=3, shuffle=True, random_state=42)\n",
        "    val_scores = []\n",
        "\n",
        "    for fold_idx, (train_idx, val_idx) in enumerate(kf.split(X_train)):\n",
        "        X_tr, y_tr = X_train.iloc[train_idx], y_train.iloc[train_idx]\n",
        "        X_val, y_val = X_train.iloc[val_idx], y_train.iloc[val_idx]\n",
        "        X_tr_processed = preprocessor.fit_transform(X_tr)\n",
        "        X_val_processed = preprocessor.transform(X_val)\n",
        "        model = lgb.LGBMRegressor(**params)\n",
        "        model.fit(X_tr_processed, y_tr)\n",
        "        preds = model.predict(X_val_processed)\n",
        "\n",
        "        mse = mean_squared_error(y_val, preds)\n",
        "        val_scores.append(mse)\n",
        "        trial.report(mse, fold_idx)\n",
        "        if trial.should_prune():\n",
        "            raise optuna.TrialPruned()\n",
        "\n",
        "\n",
        "    return np.mean(val_scores)\n",
        "\n",
        "study = optuna.create_study(\n",
        "    direction=\"minimize\",\n",
        "    sampler=optuna.samplers.TPESampler(seed=42),\n",
        "    pruner=MedianPruner(\n",
        "        n_startup_trials=3,\n",
        "        n_warmup_steps=2,\n",
        "        interval_steps=1\n",
        "    )\n",
        ")\n",
        "\n",
        "study.optimize(objective, n_trials=20, timeout=3600)"
      ],
      "metadata": {
        "id": "Ix7hwTmX5QvC"
      },
      "id": "Ix7hwTmX5QvC",
      "execution_count": null,
      "outputs": []
    },
    {
      "cell_type": "code",
      "source": [
        "best_params = study.best_params\n",
        "print(best_params)"
      ],
      "metadata": {
        "id": "hnvAZv3uJcZO"
      },
      "id": "hnvAZv3uJcZO",
      "execution_count": null,
      "outputs": []
    },
    {
      "cell_type": "code",
      "source": [
        "if isinstance(X_train, np.ndarray):\n",
        "    X_train = pd.DataFrame(X_train)\n",
        "    X_test = pd.DataFrame(X_test)"
      ],
      "metadata": {
        "id": "lZl0_TRAnAIK"
      },
      "id": "lZl0_TRAnAIK",
      "execution_count": null,
      "outputs": []
    },
    {
      "cell_type": "code",
      "source": [
        "from sklearn.ensemble import StackingRegressor\n",
        "\n",
        "base_models = [\n",
        "    ('ridge', Ridge(alpha=1, max_iter=1000, solver='auto', random_state=42)),\n",
        "    ('rf', RandomForestRegressor(\n",
        "        n_estimators=237,\n",
        "        max_depth=27,\n",
        "        min_samples_split=17,\n",
        "        min_samples_leaf=2,\n",
        "        max_features='sqrt',\n",
        "        random_state=42,\n",
        "        n_jobs=-1\n",
        "    )),\n",
        "    (\"lgb\", lgb.LGBMRegressor(\n",
        "    learning_rate=0.068,\n",
        "    num_leaves=31,\n",
        "    max_depth=5,\n",
        "    min_data_in_leaf=20,\n",
        "    feature_fraction=0.79,\n",
        "    bagging_fraction=0.86,\n",
        "    bagging_freq=5,\n",
        "    lambda_l1=0.1,\n",
        "    n_estimators=100,\n",
        "    random_state=42,\n",
        "    verbose=-1\n",
        "    ))\n",
        "]\n",
        "\n",
        "stacked_model = StackingRegressor(\n",
        "    estimators=base_models,\n",
        "    final_estimator=KNeighborsRegressor(\n",
        "        n_neighbors=9,\n",
        "        weights='distance',\n",
        "        metric='euclidean',\n",
        "        n_jobs=-1\n",
        "    ),\n",
        "    cv=3,\n",
        "    n_jobs=-1,\n",
        "    passthrough=True\n",
        ")"
      ],
      "metadata": {
        "id": "Xf-toBiklKq4"
      },
      "id": "Xf-toBiklKq4",
      "execution_count": null,
      "outputs": []
    },
    {
      "cell_type": "code",
      "source": [
        "num_cols = X_train.select_dtypes(include=[\"number\"]).columns.tolist()\n",
        "cat_cols = X_train.select_dtypes(include=[\"object\", \"category\"]).columns.tolist()\n",
        "\n",
        "preprocessor = ColumnTransformer(\n",
        "    transformers=[\n",
        "        ('num', StandardScaler(), num_cols),\n",
        "        ('cat', OneHotEncoder(handle_unknown='ignore'), cat_cols)\n",
        "    ],\n",
        "    verbose_feature_names_out=False\n",
        ")\n",
        "\n",
        "stacked_model.set_params(verbose=0)"
      ],
      "metadata": {
        "id": "KA61RPS4Gdp2"
      },
      "id": "KA61RPS4Gdp2",
      "execution_count": null,
      "outputs": []
    },
    {
      "cell_type": "code",
      "source": [
        "final_pipeline = Pipeline([\n",
        "    ('preprocessor', preprocessor),\n",
        "    ('stacked_model', stacked_model)\n",
        "])\n",
        "\n",
        "final_pipeline.fit(X_train, y_train)"
      ],
      "metadata": {
        "id": "0gcrAR7St6am"
      },
      "id": "0gcrAR7St6am",
      "execution_count": null,
      "outputs": []
    },
    {
      "cell_type": "code",
      "source": [
        "y_fpred = final_pipeline.predict(X_test)"
      ],
      "metadata": {
        "id": "K4glEktXbyg1"
      },
      "id": "K4glEktXbyg1",
      "execution_count": null,
      "outputs": []
    },
    {
      "cell_type": "code",
      "source": [
        "mean_squared_error(y_test, y_fpred)"
      ],
      "metadata": {
        "id": "3X9Igzi_cfFs"
      },
      "id": "3X9Igzi_cfFs",
      "execution_count": null,
      "outputs": []
    },
    {
      "cell_type": "code",
      "source": [
        "r2_score(y_test, y_fpred)"
      ],
      "metadata": {
        "id": "4YzYIuWfcvA5"
      },
      "id": "4YzYIuWfcvA5",
      "execution_count": null,
      "outputs": []
    },
    {
      "cell_type": "markdown",
      "source": [
        "##6. Кластеризация\n"
      ],
      "metadata": {
        "id": "KUpBcaeRc-Yk"
      },
      "id": "KUpBcaeRc-Yk"
    },
    {
      "cell_type": "code",
      "execution_count": null,
      "id": "3xxQLTSf5KDV",
      "metadata": {
        "id": "3xxQLTSf5KDV"
      },
      "outputs": [],
      "source": [
        "from sklearn.cluster import KMeans\n",
        "features = ['price', 'price_per_night', 'center_distance', 'minimum_nights', 'availability_365', 'reviews_per_month']\n",
        "X_clust = df[features]"
      ]
    },
    {
      "cell_type": "markdown",
      "id": "85gksrw-97U6",
      "metadata": {
        "id": "85gksrw-97U6"
      },
      "source": [
        "Выбираем те столбцы, которые будут использоваться для кластеризации. Это позволяет сфокусироваться на признаках, влияющих на распределение объектов (цена, цена за ночь, расстояние до центра, минимальное количество ночей, доступность за год и отзывы)."
      ]
    },
    {
      "cell_type": "code",
      "execution_count": null,
      "id": "2NUFn9Sd6isk",
      "metadata": {
        "id": "2NUFn9Sd6isk"
      },
      "outputs": [],
      "source": [
        "scaler = StandardScaler()\n",
        "X_scaled = scaler.fit_transform(X_clust)\n",
        "eps_values = np.arange(0.05, 2.0, 0.15)\n",
        "min_samples = 5"
      ]
    },
    {
      "cell_type": "code",
      "source": [
        "from sklearn.metrics import silhouette_score"
      ],
      "metadata": {
        "id": "_YJI-cgkLyu8"
      },
      "id": "_YJI-cgkLyu8",
      "execution_count": null,
      "outputs": []
    },
    {
      "cell_type": "markdown",
      "id": "csFICsRz-WwT",
      "metadata": {
        "id": "csFICsRz-WwT"
      },
      "source": [
        "Масштабирование признаков необходимо для метода К ближайших соседей."
      ]
    },
    {
      "cell_type": "code",
      "execution_count": null,
      "id": "BhNQT8Sw6m0J",
      "metadata": {
        "id": "BhNQT8Sw6m0J"
      },
      "outputs": [],
      "source": [
        "wcss = []\n",
        "silhouette_scores = []\n",
        "K_range=range(2, 11)\n",
        "\n",
        "for k in K_range:\n",
        "    kmeans = KMeans(n_clusters=k, random_state=42)\n",
        "    labels = kmeans.fit_predict(X_scaled)\n",
        "    wcss.append(kmeans.inertia_)\n",
        "    silhouette_avg = silhouette_score(X_scaled, labels)\n",
        "    silhouette_scores.append(silhouette_avg)"
      ]
    },
    {
      "cell_type": "code",
      "execution_count": null,
      "id": "FRBue2Pk6qnD",
      "metadata": {
        "id": "FRBue2Pk6qnD"
      },
      "outputs": [],
      "source": [
        "fig, ax1 = plt.subplots(figsize=(10, 5))\n",
        "\n",
        "ax1.plot(K_range, wcss, marker='o', color='tab:blue')\n",
        "ax1.set_xlabel('Количество кластеров')\n",
        "ax1.set_ylabel('WCSS', color='tab:blue')\n",
        "ax1.tick_params(axis='y', labelcolor='tab:blue')\n",
        "ax1.set_title('Метод локтя и силуэт для выбора числа кластеров')\n",
        "\n",
        "ax2 = ax1.twinx()\n",
        "ax2.plot(K_range, silhouette_scores, marker='s', color='tab:red')\n",
        "ax2.set_ylabel('сsilhouette', color='tab:red')\n",
        "ax2.tick_params(axis='y', labelcolor='tab:red')"
      ]
    },
    {
      "cell_type": "markdown",
      "id": "URK1yJy7-psU",
      "metadata": {
        "id": "URK1yJy7-psU"
      },
      "source": [
        "Как можно наблюдать из синего графика, оптимальным количеством кластеров является число 10, где wcss минимален. По видимому, график и далее будет показавыть нисходящее движение, но темп снижения замедляется, поскольку у него есть горизонтальная асимптота. Так что дальнейшие значения не сильно изменят ошибку.\n",
        "Оптимальный силуэт достигается при 4 кластерах, поэтому столько и следует взять."
      ]
    },
    {
      "cell_type": "code",
      "execution_count": null,
      "id": "HvIGbcWJ6vk0",
      "metadata": {
        "id": "HvIGbcWJ6vk0"
      },
      "outputs": [],
      "source": [
        "k = 4\n",
        "kmeans = KMeans(n_clusters=k, random_state=42)\n",
        "clusters = kmeans.fit_predict(X_scaled)"
      ]
    },
    {
      "cell_type": "code",
      "execution_count": null,
      "id": "oaLRvOvV61E9",
      "metadata": {
        "id": "oaLRvOvV61E9"
      },
      "outputs": [],
      "source": [
        "df['cluster_k'] = clusters\n"
      ]
    },
    {
      "cell_type": "code",
      "execution_count": null,
      "id": "rkYOHlUw61c8",
      "metadata": {
        "id": "rkYOHlUw61c8"
      },
      "outputs": [],
      "source": [
        "plt.scatter(df['center_distance'], df['price_per_night'],\n",
        "            c=df['cluster_k'], cmap='viridis', alpha=0.6, edgecolors='w', s=50)\n",
        "plt.xlabel('Расстояние до центра (км)')\n",
        "plt.ylabel('Цена за ночь')\n",
        "plt.title('Кластеры по расстоянию и цене')\n",
        "plt.colorbar(label='Кластер')\n"
      ]
    },
    {
      "cell_type": "markdown",
      "id": "CDv5SkCuNFJ3",
      "metadata": {
        "id": "CDv5SkCuNFJ3"
      },
      "source": [
        "На графике воспрнять 4 кластера довольно тяжело, хотя видны некоторые границы разделения."
      ]
    },
    {
      "cell_type": "code",
      "execution_count": null,
      "id": "Q7hP37eE62oz",
      "metadata": {
        "id": "Q7hP37eE62oz"
      },
      "outputs": [],
      "source": [
        "centers_scaled = kmeans.cluster_centers_\n",
        "centers = scaler.inverse_transform(centers_scaled)\n",
        "centers_df = pd.DataFrame(centers, columns=features)\n",
        "centers_df"
      ]
    },
    {
      "cell_type": "markdown",
      "id": "J-WhKMDCOerd",
      "metadata": {
        "id": "J-WhKMDCOerd"
      },
      "source": [
        "Первый кластер характеризуется относительно низкой ценой\n",
        " около 136 долларов, но при этом цена за ночь всего 8, что говорит о долгосрочной аренде и значительных скидках. Минимальное количество ночей выше среднего, удаленность примерно 6,5 км от центра. Доступность высокая, почти весь год, а количество отзывов в месяц низкое.\n",
        "\n",
        "Второй кластер отличается умеренной стоимостью около 100 долларов, с ценой за ночь 44. Это больше похоже на краткосрочную аренду. Минимальное количество ночей небольшое, около 3, доступность низкая. Объекты находятся дальше — более 7 км от центра.\n",
        "\n",
        "Третий кластер это дорогие варианты с ценой около 253 долларов и ценой за ночь более 135. Эти предложения ближе к центру , минимальное количество ночей примерно 2, доступность умеренная, а отзывов больше, чем в других кластерах.\n",
        "\n",
        "Четвёртый кластер снова относится к более доступному сегменту цена около 92 долларов, цена за ночь 54. Удаленность максимальная почти 10 км, минимальные ночи около 2, доступность высокая, а количество отзывов в месяц самое большое, что указывает на популярность среди гостей."
      ]
    },
    {
      "cell_type": "code",
      "execution_count": null,
      "id": "wc8uvUCeLb9r",
      "metadata": {
        "id": "wc8uvUCeLb9r"
      },
      "outputs": [],
      "source": [
        "plt.figure(figsize=(12,6))\n",
        "sns.boxplot(x=df[\"cluster_k\"], y=df[\"price\"])\n",
        "plt.title(\"Распределение цен по кластерам\")\n",
        "plt.show()\n"
      ]
    },
    {
      "cell_type": "markdown",
      "id": "HUhqNg-2PZz4",
      "metadata": {
        "id": "HUhqNg-2PZz4"
      },
      "source": [
        "Здесь как раз можно видеть что средняя цена во 2 кластре значительно выделяется."
      ]
    },
    {
      "cell_type": "code",
      "execution_count": null,
      "id": "hi1y9QpNLdbn",
      "metadata": {
        "id": "hi1y9QpNLdbn"
      },
      "outputs": [],
      "source": [
        "plt.figure(figsize=(12, 6))\n",
        "sns.boxplot(data=df, x=\"cluster_k\", y=\"reviews_per_month\", palette=\"coolwarm\")\n",
        "plt.title(\"Популярность кластеров по числу отзывов в месяц\")\n",
        "plt.xlabel(\"Кластер\")\n",
        "plt.ylabel(\"Среднее число отзывов в месяц\")\n",
        "plt.show()\n",
        "\n"
      ]
    },
    {
      "cell_type": "markdown",
      "id": "Q-czhsGOPkt6",
      "metadata": {
        "id": "Q-czhsGOPkt6"
      },
      "source": [
        "3 и 4 кластеры самые популярные."
      ]
    },
    {
      "cell_type": "code",
      "execution_count": null,
      "id": "6gjJ_4fdLvwr",
      "metadata": {
        "id": "6gjJ_4fdLvwr"
      },
      "outputs": [],
      "source": [
        "plt.figure(figsize=(12, 6))\n",
        "sns.boxplot(data=df, x=\"cluster_k\", y=\"availability_365\", palette=\"magma\")\n",
        "plt.title(\"Доступность жилья в кластерах\")\n",
        "plt.xlabel(\"Кластер\")\n",
        "plt.ylabel(\"Число доступных дней в году\")\n",
        "plt.show()\n",
        "\n"
      ]
    },
    {
      "cell_type": "markdown",
      "id": "SjLFbSL-Pryg",
      "metadata": {
        "id": "SjLFbSL-Pryg"
      },
      "source": [
        "0 и 3 кластеры характеризуются высокой доступностью жилья."
      ]
    },
    {
      "cell_type": "raw",
      "id": "410d8afc-872e-4fec-aa00-7de9fd7548d5",
      "metadata": {
        "id": "410d8afc-872e-4fec-aa00-7de9fd7548d5"
      },
      "source": [
        "Возможные дальнейшие действия:\n",
        "\n",
        "**Расширенная гиперпараметрическая оптимизация**:\n",
        "\n",
        "Применение более детального подбора параметров, например, через,  RandomizedSearchCV, ведб  он может выявить еще более оптимальные настройки.\n",
        "Также расширение диапазона параметров и использование более сложных регуляризаций.\n",
        "\n",
        "**Использование альтернативных моделей**:\n",
        "\n",
        "Возможность применить ансамблевые методы (например, бэггинг или градиентный бустинг), которые способны уловить нелинейные зависимости.\n",
        "\n",
        "**Дополнительное создание и отбор признаков**:\n",
        "\n",
        "Генерация новых признаков, например, взаимодействий между существующими или полиномиальных признаков, может помочь модели лучше уловить сложные зависимости.\n",
        "Применение методов отбора признаков (например, Lasso, деревья решений для определения важности признаков) поможет устранить лишний шум и повысить качество модели.\n",
        "\n",
        "**Углубленный анализ данных и обработка выбросов**:\n",
        "\n",
        "Анализ остатков модели позволит выявить систематические ошибки и дополнительные закономерности, которые модель не смогла уловить.\n",
        "\n",
        "**Более тщательная валидация**:\n",
        "\n",
        "Использование k-fold кросс-валидации для оценки стабильности модели.\n",
        "Построение графиков остатков (residual plots) для проверки предположений линейной регрессии\n",
        "\n",
        "**Использование альтернативных методов кластеризации**\n",
        "\n",
        "Например, DBSCAN или иерархической кластеризации для более точного сегментирования.Применение результатов кластеризации для сегментации клиентов и создания персонализированных предложений\n",
        "Интеграция дополнительных источников данных:\n",
        "\n",
        "**Объединение с данными с новыми данными**\n",
        "Например, о событиях, туристической активности или экономических индикаторах для повышения точности прогнозов\n",
        "Анализ отзывов и социальных медиа для определения восприятия предложений и улучшения качества рекомендаций\n",
        "\n",
        "\n",
        "**Разработка рекомендательной системы:**\n",
        "\n",
        "Сегментация объектов в сочетании с анализом предпочтений пользователей может использоваться для создания системы рекомендаций, предлагающей наиболее подходящие варианты жилья исходя из бюджета и предпочтений клиента"
      ]
    }
  ],
  "metadata": {
    "accelerator": "GPU",
    "colab": {
      "gpuType": "T4",
      "provenance": []
    },
    "kernelspec": {
      "display_name": "Python 3",
      "name": "python3"
    },
    "language_info": {
      "codemirror_mode": {
        "name": "ipython",
        "version": 3
      },
      "file_extension": ".py",
      "mimetype": "text/x-python",
      "name": "python",
      "nbconvert_exporter": "python",
      "pygments_lexer": "ipython3",
      "version": "3.12.7"
    }
  },
  "nbformat": 4,
  "nbformat_minor": 5
}